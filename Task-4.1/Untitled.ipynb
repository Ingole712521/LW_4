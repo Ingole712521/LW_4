{
 "cells": [
  {
   "cell_type": "code",
   "execution_count": 1,
   "metadata": {},
   "outputs": [],
   "source": [
    "import numpy as np"
   ]
  },
  {
   "cell_type": "code",
   "execution_count": 2,
   "metadata": {},
   "outputs": [],
   "source": [
    "image=np.zeros((500,500,3))"
   ]
  },
  {
   "cell_type": "code",
   "execution_count": 3,
   "metadata": {},
   "outputs": [],
   "source": [
    "import cv2 "
   ]
  },
  {
   "cell_type": "code",
   "execution_count": 4,
   "metadata": {},
   "outputs": [],
   "source": [
    "image=cv2.circle(image,(250,250),250,[0,0,255],5)\n",
    "\n",
    "image=cv2.line(image,(250,0),(0,250),[0,255,0],2)\n",
    "image=cv2.line(image,(250,500),(0,250),[0,255,0],2)\n",
    "image=cv2.line(image,(0,250),(250,500),[0,255,0],2)\n",
    "image=cv2.line(image,(250,500),(500,250),[0,255,0],2)\n",
    "image=cv2.line(image,(500,250),(250,0),[0,255,0],2)\n",
    "\n",
    "image=cv2.line(image,(125,125),(125,375),[255,0,0],2)\n",
    "image=cv2.line(image,(125,375),(375,375),[255,0,0],2)\n",
    "image=cv2.line(image,(375,375),(375,125),[255,0,0],2)\n",
    "image=cv2.line(image,(375,125),(125,125),[255,0,0],2)\n",
    "\n",
    "image=cv2.circle(image,(250,250),125,[197,37,175],2)\n",
    "cv2.imshow('hi',image)\n",
    "cv2.waitKey()\n",
    "cv2.destroyAllWindows()"
   ]
  },
  {
   "cell_type": "code",
   "execution_count": null,
   "metadata": {},
   "outputs": [],
   "source": []
  }
 ],
 "metadata": {
  "kernelspec": {
   "display_name": "Python 3",
   "language": "python",
   "name": "python3"
  },
  "language_info": {
   "codemirror_mode": {
    "name": "ipython",
    "version": 3
   },
   "file_extension": ".py",
   "mimetype": "text/x-python",
   "name": "python",
   "nbconvert_exporter": "python",
   "pygments_lexer": "ipython3",
   "version": "3.8.3"
  }
 },
 "nbformat": 4,
 "nbformat_minor": 4
}
